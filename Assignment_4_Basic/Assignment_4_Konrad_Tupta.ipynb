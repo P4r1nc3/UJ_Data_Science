{
 "cells": [
  {
   "cell_type": "markdown",
   "metadata": {},
   "source": [
    "### Today we are going to perform the simple classification of the amazon reviews' sentiment.\n",
    "\n",
    "### Please, download the dataset amazon_baby.csv."
   ]
  },
  {
   "cell_type": "code",
   "execution_count": 1,
   "metadata": {},
   "outputs": [
    {
     "data": {
      "text/html": [
       "<div>\n",
       "<style scoped>\n",
       "    .dataframe tbody tr th:only-of-type {\n",
       "        vertical-align: middle;\n",
       "    }\n",
       "\n",
       "    .dataframe tbody tr th {\n",
       "        vertical-align: top;\n",
       "    }\n",
       "\n",
       "    .dataframe thead th {\n",
       "        text-align: right;\n",
       "    }\n",
       "</style>\n",
       "<table border=\"1\" class=\"dataframe\">\n",
       "  <thead>\n",
       "    <tr style=\"text-align: right;\">\n",
       "      <th></th>\n",
       "      <th>name</th>\n",
       "      <th>review</th>\n",
       "      <th>rating</th>\n",
       "    </tr>\n",
       "  </thead>\n",
       "  <tbody>\n",
       "    <tr>\n",
       "      <th>0</th>\n",
       "      <td>Planetwise Flannel Wipes</td>\n",
       "      <td>These flannel wipes are OK, but in my opinion ...</td>\n",
       "      <td>3</td>\n",
       "    </tr>\n",
       "    <tr>\n",
       "      <th>1</th>\n",
       "      <td>Planetwise Wipe Pouch</td>\n",
       "      <td>it came early and was not disappointed. i love...</td>\n",
       "      <td>5</td>\n",
       "    </tr>\n",
       "    <tr>\n",
       "      <th>2</th>\n",
       "      <td>Annas Dream Full Quilt with 2 Shams</td>\n",
       "      <td>Very soft and comfortable and warmer than it l...</td>\n",
       "      <td>5</td>\n",
       "    </tr>\n",
       "    <tr>\n",
       "      <th>3</th>\n",
       "      <td>Stop Pacifier Sucking without tears with Thumb...</td>\n",
       "      <td>This is a product well worth the purchase.  I ...</td>\n",
       "      <td>5</td>\n",
       "    </tr>\n",
       "    <tr>\n",
       "      <th>4</th>\n",
       "      <td>Stop Pacifier Sucking without tears with Thumb...</td>\n",
       "      <td>All of my kids have cried non-stop when I trie...</td>\n",
       "      <td>5</td>\n",
       "    </tr>\n",
       "  </tbody>\n",
       "</table>\n",
       "</div>"
      ],
      "text/plain": [
       "                                                name  \\\n",
       "0                           Planetwise Flannel Wipes   \n",
       "1                              Planetwise Wipe Pouch   \n",
       "2                Annas Dream Full Quilt with 2 Shams   \n",
       "3  Stop Pacifier Sucking without tears with Thumb...   \n",
       "4  Stop Pacifier Sucking without tears with Thumb...   \n",
       "\n",
       "                                              review  rating  \n",
       "0  These flannel wipes are OK, but in my opinion ...       3  \n",
       "1  it came early and was not disappointed. i love...       5  \n",
       "2  Very soft and comfortable and warmer than it l...       5  \n",
       "3  This is a product well worth the purchase.  I ...       5  \n",
       "4  All of my kids have cried non-stop when I trie...       5  "
      ]
     },
     "execution_count": 1,
     "metadata": {},
     "output_type": "execute_result"
    }
   ],
   "source": [
    "#Importing Libraies\n",
    "import pandas as pd\n",
    "import numpy as np\n",
    "import matplotlib.pyplot as plt\n",
    "import string\n",
    "from sklearn.linear_model import LogisticRegression\n",
    "\n",
    "#Function for removing punctation\n",
    "def remove_punctuation(text):\n",
    "    import string\n",
    "    translator = str.maketrans('', '', string.punctuation)\n",
    "    return text.translate(translator)\n",
    "\n",
    "# Importing Dataset\n",
    "baby_df = pd.read_csv('amazon_baby.csv')\n",
    "baby_df.head()"
   ]
  },
  {
   "cell_type": "markdown",
   "metadata": {},
   "source": [
    "## Exercise 1 (data preparation)\n",
    "a) Remove punctuation from reviews using the given function.   \n",
    "b) Replace all missing (nan) revies with empty \"\" string.  \n",
    "c) Drop all the entries with rating = 3, as they have neutral sentiment.   \n",
    "d) Set all positive ($\\geq$4) ratings to 1 and negative($\\leq$2) to -1."
   ]
  },
  {
   "cell_type": "code",
   "execution_count": 2,
   "metadata": {},
   "outputs": [
    {
     "data": {
      "text/plain": [
       "True"
      ]
     },
     "execution_count": 2,
     "metadata": {},
     "output_type": "execute_result"
    }
   ],
   "source": [
    "#a)\n",
    "# Removing punctuation from reviews by using the given function\n",
    "baby_df['review'] = remove_punctuation(baby_df['review'].str)\n",
    "\n",
    "#short test: \n",
    "baby_df[\"review\"][4] == 'All of my kids have cried nonstop when I tried to ween them off their pacifier until I found Thumbuddy To Loves Binky Fairy Puppet  It is an easy way to work with your kids to allow them to understand where their pacifier is going and help them part from itThis is a must buy book and a great gift for expecting parents  You will save them soo many headachesThanks for this book  You all rock'\n",
    "remove_punctuation(baby_df[\"review\"][4]) == 'All of my kids have cried nonstop when I tried to ween them off their pacifier until I found Thumbuddy To Loves Binky Fairy Puppet  It is an easy way to work with your kids to allow them to understand where their pacifier is going and help them part from itThis is a must buy book and a great gift for expecting parents  You will save them soo many headachesThanks for this book  You all rock'"
   ]
  },
  {
   "cell_type": "code",
   "execution_count": 3,
   "metadata": {},
   "outputs": [
    {
     "data": {
      "text/plain": [
       "True"
      ]
     },
     "execution_count": 3,
     "metadata": {},
     "output_type": "execute_result"
    }
   ],
   "source": [
    "#b)\n",
    "# Replacing all missing (nan) revies with empty \"\" string\n",
    "baby_df['review'] = baby_df['review'].replace(np.nan, '', regex=True)\n",
    "\n",
    "#short test:\n",
    "baby_df[\"review\"][38] == baby_df[\"review\"][38]"
   ]
  },
  {
   "cell_type": "code",
   "execution_count": 4,
   "metadata": {},
   "outputs": [
    {
     "data": {
      "text/plain": [
       "0"
      ]
     },
     "execution_count": 4,
     "metadata": {},
     "output_type": "execute_result"
    }
   ],
   "source": [
    "#c)\n",
    "# Droping all the entries with rating = 3, as they have neutral sentiment\n",
    "baby_df = baby_df[baby_df.rating != 3]\n",
    "\n",
    "#short test:\n",
    "sum(baby_df[\"rating\"] == 3)"
   ]
  },
  {
   "cell_type": "code",
   "execution_count": 5,
   "metadata": {},
   "outputs": [
    {
     "data": {
      "text/plain": [
       "0"
      ]
     },
     "execution_count": 5,
     "metadata": {},
     "output_type": "execute_result"
    }
   ],
   "source": [
    "#d) \n",
    "# Setting all positive (>=4) ratings to 1 and negative (<=2) to -1\n",
    "baby_df.loc[baby_df['rating'] <= 2, 'rating'] = -1\n",
    "baby_df.loc[baby_df['rating'] >= 4, 'rating'] = 1\n",
    "\n",
    "#short test:\n",
    "sum(baby_df[\"rating\"]**2 != 1)"
   ]
  },
  {
   "cell_type": "markdown",
   "metadata": {},
   "source": [
    "## CountVectorizer\n",
    "In order to analyze strings, we need to assign them numerical values. We will use one of the simplest string representation, which transforms strings into the $n$ dimensional vectors. The number of dimensions will be the size of our dictionary, and then the values of the vector will represent the number of appereances of the given word in the sentence."
   ]
  },
  {
   "cell_type": "code",
   "execution_count": 6,
   "metadata": {},
   "outputs": [
    {
     "name": "stdout",
     "output_type": "stream",
     "text": [
      "['adore', 'and', 'apples', 'bananas', 'dislike', 'hate', 'like', 'oranges', 'they', 'we']\n",
      "[[0 0 1 0 0 0 1 0 0 1]\n",
      " [0 0 0 0 0 1 0 1 0 1]\n",
      " [1 0 0 1 0 0 0 0 0 0]\n",
      " [0 1 1 0 0 0 2 1 0 1]\n",
      " [0 0 0 1 1 0 0 0 1 0]]\n"
     ]
    },
    {
     "name": "stderr",
     "output_type": "stream",
     "text": [
      "/opt/anaconda3/lib/python3.9/site-packages/sklearn/utils/deprecation.py:87: FutureWarning: Function get_feature_names is deprecated; get_feature_names is deprecated in 1.0 and will be removed in 1.2. Please use get_feature_names_out instead.\n",
      "  warnings.warn(msg, category=FutureWarning)\n"
     ]
    }
   ],
   "source": [
    "from sklearn.feature_extraction.text import CountVectorizer\n",
    "\n",
    "vectorizer = CountVectorizer()\n",
    "reviews_train_example = [\"We like apples\",\n",
    "                   \"We hate oranges\",\n",
    "                   \"I adore bananas\",\n",
    "                   \"We like like apples and oranges\",\n",
    "                   \"They dislike bananas\"]\n",
    "\n",
    "X_train_example = vectorizer.fit_transform(reviews_train_example)\n",
    "\n",
    "print(vectorizer.get_feature_names())\n",
    "print(X_train_example.todense())"
   ]
  },
  {
   "cell_type": "code",
   "execution_count": 7,
   "metadata": {},
   "outputs": [
    {
     "name": "stdout",
     "output_type": "stream",
     "text": [
      "[[0 0 0 1 0 0 1 0 1 0]\n",
      " [0 1 1 1 0 1 0 1 0 1]\n",
      " [0 0 0 1 0 0 0 0 0 1]]\n"
     ]
    }
   ],
   "source": [
    "reviews_test_example = [\"They like bananas\",\n",
    "                   \"We hate oranges bananas and apples\",\n",
    "                   \"We love bananas\"] #New word!\n",
    "\n",
    "X_test_example = vectorizer.transform(reviews_test_example)\n",
    "\n",
    "print(X_test_example.todense())"
   ]
  },
  {
   "cell_type": "markdown",
   "metadata": {},
   "source": [
    "We should acknowledge few facts. Firstly, CountVectorizer does not take order into account. Secondly, it ignores one-letter words (this can be changed during initialization). Finally, for test values, CountVectorizer ignores words which are not in it's dictionary."
   ]
  },
  {
   "cell_type": "markdown",
   "metadata": {},
   "source": [
    "## Exercise 2 \n",
    "a) Split dataset into training and test sets.     \n",
    "b) Transform reviews into vectors using CountVectorizer. "
   ]
  },
  {
   "cell_type": "code",
   "execution_count": 14,
   "metadata": {},
   "outputs": [
    {
     "data": {
      "text/plain": [
       "24991     1\n",
       "146302   -1\n",
       "2377      1\n",
       "3009      1\n",
       "175783    1\n",
       "         ..\n",
       "75140    -1\n",
       "97040     1\n",
       "138785    1\n",
       "134998    1\n",
       "179379    1\n",
       "Name: rating, Length: 41688, dtype: int64"
      ]
     },
     "execution_count": 14,
     "metadata": {},
     "output_type": "execute_result"
    }
   ],
   "source": [
    "#a)\n",
    "# Importing train_test_split\n",
    "from sklearn.model_selection import train_test_split\n",
    "\n",
    "# Spliting data into training and tests sets\n",
    "train_reviews, test_reviews, train_ratings, test_ratings = train_test_split(baby_df['review'], baby_df['rating'])"
   ]
  },
  {
   "cell_type": "code",
   "execution_count": 15,
   "metadata": {},
   "outputs": [
    {
     "data": {
      "text/plain": [
       "<125064x117040 sparse matrix of type '<class 'numpy.int64'>'\n",
       "\twith 6654700 stored elements in Compressed Sparse Row format>"
      ]
     },
     "execution_count": 15,
     "metadata": {},
     "output_type": "execute_result"
    }
   ],
   "source": [
    "#b)\n",
    "# Transforming reviewes into vectors using CountVectorizer\n",
    "vectorizer = CountVectorizer()\n",
    "\n",
    "# Train reviewes as vector\n",
    "vector_train_reviews = vectorizer.fit_transform(train_reviews)\n",
    "\n",
    "# Test reviewes as vector\n",
    "vector_test_reviews = vectorizer.transform(test_reviews)\n",
    "\n",
    "# CountVectorizer is a great tool provided by the scikit-learn library in Python. \n",
    "# It is used to transform a given text into a vector on the basis of the frequency (count) of each\n",
    "# word that occurs in the entire text."
   ]
  },
  {
   "cell_type": "markdown",
   "metadata": {},
   "source": [
    "## Exercise 3 \n",
    "a) Train LogisticRegression model on training data (reviews processed with CountVectorizer, ratings as they were).   \n",
    "b) Print 10 most positive and 10 most negative words."
   ]
  },
  {
   "cell_type": "code",
   "execution_count": 10,
   "metadata": {},
   "outputs": [
    {
     "name": "stderr",
     "output_type": "stream",
     "text": [
      "/opt/anaconda3/lib/python3.9/site-packages/sklearn/linear_model/_logistic.py:814: ConvergenceWarning: lbfgs failed to converge (status=1):\n",
      "STOP: TOTAL NO. of ITERATIONS REACHED LIMIT.\n",
      "\n",
      "Increase the number of iterations (max_iter) or scale the data as shown in:\n",
      "    https://scikit-learn.org/stable/modules/preprocessing.html\n",
      "Please also refer to the documentation for alternative solver options:\n",
      "    https://scikit-learn.org/stable/modules/linear_model.html#logistic-regression\n",
      "  n_iter_i = _check_optimize_result(\n"
     ]
    },
    {
     "data": {
      "text/plain": [
       "LogisticRegression()"
      ]
     },
     "execution_count": 10,
     "metadata": {},
     "output_type": "execute_result"
    }
   ],
   "source": [
    "#a)\n",
    "# Training LogisticRegression on training sets\n",
    "model = LogisticRegression()\n",
    "model.fit(vector_train_reviews, train_ratings)\n",
    "\n",
    "# Logistic regression is an example of supervised learning. \n",
    "# It is used to calculate or predict the probability of a binary (yes/no) event occurring. "
   ]
  },
  {
   "cell_type": "code",
   "execution_count": 11,
   "metadata": {},
   "outputs": [
    {
     "name": "stdout",
     "output_type": "stream",
     "text": [
      "Top 10 most positive words: ['satisfied', 'complaint', 'lifesaver', 'worry', 'loves', 'complaints', 'amazing', 'perfect', 'pleased', 'excellent']\n",
      "Top 10 most negative words: ['disappointing', 'worst', 'poorly', 'concept', 'disappointed', 'dissapointed', 'worthless', 'shame', 'useless', 'unusable']\n"
     ]
    },
    {
     "name": "stderr",
     "output_type": "stream",
     "text": [
      "/opt/anaconda3/lib/python3.9/site-packages/sklearn/utils/deprecation.py:87: FutureWarning: Function get_feature_names is deprecated; get_feature_names is deprecated in 1.0 and will be removed in 1.2. Please use get_feature_names_out instead.\n",
      "  warnings.warn(msg, category=FutureWarning)\n"
     ]
    }
   ],
   "source": [
    "#b)\n",
    "# Creating sorted words set \n",
    "words = sorted(list(zip(model.coef_[0], vectorizer.get_feature_names())), key=lambda x: x[0])\n",
    "\n",
    "# Creating list for top 10 positive and negative words\n",
    "top_10_positive = [word[1] for word in words[-10:]]\n",
    "top_10_negative = [word[1] for word in words[:10]]\n",
    "\n",
    "# Printing top 10 most positive words\n",
    "print('Top 10 most positive words:', top_10_positive)\n",
    "\n",
    "# Printing top 10 most negative words\n",
    "print('Top 10 most negative words:', top_10_negative)"
   ]
  },
  {
   "cell_type": "markdown",
   "metadata": {},
   "source": [
    "## Exercise 4 \n",
    "a) Predict the sentiment of test data reviews.   \n",
    "b) Predict the sentiment of test data reviews in terms of probability.   \n",
    "c) Find five most positive and most negative reviews.   \n",
    "d) Calculate the accuracy of predictions."
   ]
  },
  {
   "cell_type": "code",
   "execution_count": 12,
   "metadata": {},
   "outputs": [
    {
     "name": "stdout",
     "output_type": "stream",
     "text": [
      "[-1  1  1 ...  1  1  1]\n"
     ]
    }
   ],
   "source": [
    "#a)\n",
    "# Importing time library\n",
    "import time\n",
    "start = time.time()\n",
    "predictions = model.predict(vector_test_reviews)\n",
    "predictions_time = time.time() - start\n",
    "print(predictions)\n",
    "\n",
    "# predict() - Python predict() function enables us to predict the labels of the data values on the basis of \n",
    "# the trained model. The predict() function accepts only a single argument which is usually \n",
    "# the data to be tested."
   ]
  },
  {
   "cell_type": "code",
   "execution_count": 13,
   "metadata": {},
   "outputs": [
    {
     "name": "stdout",
     "output_type": "stream",
     "text": [
      "[[0.80392563 0.19607437]\n",
      " [0.00138226 0.99861774]\n",
      " [0.006047   0.993953  ]\n",
      " ...\n",
      " [0.00125238 0.99874762]\n",
      " [0.08938726 0.91061274]\n",
      " [0.01940839 0.98059161]]\n"
     ]
    }
   ],
   "source": [
    "#b)\n",
    "probability_predictions = model.predict_proba(vector_test_reviews)\n",
    "print(probability_predictions)\n",
    "\n",
    "# predict_proba() - The method accepts a single argument that corresponds to the data over which the \n",
    "# probabilities will be computed and returns an array of lists containing the class probabilities for \n",
    "#the input data points."
   ]
  },
  {
   "cell_type": "code",
   "execution_count": 14,
   "metadata": {},
   "outputs": [
    {
     "name": "stdout",
     "output_type": "stream",
     "text": [
      "Top 5 most positive reviews:\n",
      "\n",
      "1. We bought this stroller after selling our beloved BOB rev on craigslist We used the BOB for 9 months for my son but it just wasnt practical I dont jogrun it didnt have a big basket and was very bulky to take into stores quickly However I did love how it unfolded easily but it was heavy to fold up and lift into my small trunk myself Overall I didnt realize what Id need in a stroller until AFTER I had my son Live  learn We did love how easily the BOB would go over pretty much anything Nevertheless we sold it and after extensive research on strollers we decided it was between the uppababy brand because of the large baskets OR the city mini GT because of its easy fold up design After looking over both strollers I decided on the uppababy cruz because of a few main factors It SITS UP I cant tell you how much my son hates being reclined when he is just riding in the stroller and not napping The BOB and the City Mini had a slight recline and he always tried sitting more upright The uppababy sits up like your sitting in a chair He loves it It also reclines nearly flat The foot rest can be positioned upwards so that its as if he is sitting on the floor because he is so upright and his feet are out in front of him Also the LARGE basket was a HUGE plus I cant tell you how great evvvvverything fits in there Its perfect and soooo easily accessable The city mini gt did NOT have a big enough basket for me and there for was not the right choice for me despite the very easy fold up The true test for us was this past weekend when we took it to Maine on a camping trip YES it is no BOB However I thought it was just fine over the rough bumps of a campground Bumpy ride Yes But nothing my 10 month old couldnt handle and honestly It wasnt that bad We took it to old orchard beach and as I suspected it didnt roll over the sand like my good old BOB did But it rolls really nicely on pavement and I just carried my son over to the beach and I figure he will be 1 soon enough and walking so I wont need the stroller on the beach anyways I also love the reversable seat that comes in handy because my son is going through some sort of attachment to mommy thing so he likes being able to face me from time to time I also love that the Cruz is a less expencive option to the Vista The vista is much much heavier and a little bigger And since we didnt need the extras that the Vista comes with this was the better option for us Also I called Uppababy and asked about a belly bar and toddler board for the cruz and they told me that BOTH would be available The belly bar will be out this summer and the board is in producton huge plus So for us this stroller was a hit but as anything goes you MUST research what YOU need in a stroller and figure out whats important to you Some people dont care about a big basket and in that case id for sure go with the City mini gtUPDATE1713We are in LOVE with this stroller still It fits great in the trunk of my saturn ion and how I fold it is I take the seat off first takes 1 second and then fold the frame I found it fits and folds better that way plus some times my son likes to sit forward and sometimes backwards still so I just set up the frame and then throw the seat on top depending on which way i think he wants to sit The basket is just my fave feature I cant tell you how happy I have been with the uppababby My son is 16 months old and loves sitting in his uppababy well worth it still\n",
      "\n",
      "2. I researched carriers for a long time I am so thankful I bought the Ergo Sport My daughter is 15 months old and we have been using it regulary since before she was 5 months old  I thought about the Mei Tai but am so glad I didnt get it My cousin has it wishes she had the ErgoThe Ergo takes some practice but quickly you are able to wear baby in front back or side I use it for front or back I still carry my daughter around the grocery store with her in front of me it is an easy way to control a toddler while grocery shopping and I get tons of feed back on how good she is smiling and happy It is easy to breastfeed in I pull out of the top of my shirt and put an udder cover over top I also love the back pack postion and use it for carrying groceries up 2 flights of stairs Hiking or walking Doing dishes when my toddler is grumpy and just wants to be held  It is so wonderful  The hood is also an asset as it holds her head in perfectly while she sleeps I leave the hood out while she is in the back position so I can grab the straps and pull them over my shoulders to attach them YES I do get her on my back all by myself and have never had help doing so I used a mirror at first but quickly did it by watching her as I put her behind me I also use to use this to walk up hill on the treadmill during her morning nap when she was a little baby for exercise as it got her to sleep quickly and helped me get in shape faster  For reference I am about 54 and normal weight My daughter has always been the correct weight for her height normal baby fat and is in the 90 percentile for both She is over 26 lbs now and very tall  I chose the sport instead of the cotton because I felt it would breathe better as baby wearing of any kind does get warm I have been happy with my choice I do not sweat in this while doing things around the house or grocery shopping for hours in it so it isnt hot as one other reviewer noted I also have the moby wrap which is nice for littler babies but not since mine has been over 5 months and the new native sling which is also good for younger babies and older babies but my definate life savor is the ERGO SPORT Please note that my daughter also loves being in this with me She always seems happy to be in here and never tries to get out Facing me has never been an issue for us vs facing out as this is all she knows I have read that facing out is extremely bad for the hips of a baby and so I stayed away from the baby bjorn My sister has a baby bjorn and it always hurts her back I can wear this for hours and hours with my huge toddler and have no problems at all You do need to adjust the waist belt up some so that it feels more comfortable My husband put our daughter on and was having back pain until we adjusted the waist belt so placement of that belt may not be intuitive Adjust it based on feeling I would also like to note that I have washed this in the wash machine line dry and it holds up well  I did not purchase the teething straps and am glad I didnt as my daughter didnt chew on the shoulder straps You will be happy you purchased this baby carrier it is worth far more to me than what I paid for it here on amazon\n",
      "\n",
      "3. I love having a new baby in the house and even though it has only been four years since our last baby it is truly like starting over again It seems that every time I go shopping for baby and that I am preparing for a new baby there are new things out there and there is new info that I am learning about baby I personally love finding the new products on the market then telling others about it Like when I have guests over or when we are out and about with Wyatt and people ask what is that or how did you find that I can tell them Recently I was sent a product that I wish that I had with my other two and is from a company that I adore I was sent the new Halo SwaddleChange to review You may be thinking to yourself now what is a Halo SwaddleChange Well that is what I am going to tell you about The Halo SwaddleChange has me now convinced that this is a must have for anyone with a baby When you have a baby you have diapers and with a baby they dont exactly stay still during all diaper changes They get fussy and antsy and they do not really enjoy being uncovered Now when I had Robert I just knew that having a changing table was a must have because I did not have one with Estrella and with Wyatt I just know that having a Halo SwaddleChange is the must have accessory for your changing table I love that when I go to change Wyatt no matter how wiggly he can get I can easily set him up in the soft and comfortable SwaddleChange that is part of his changing table and we can both have a easier diaper change Wyatt loves to be swaddled and I love not having to worry about his hands getting messy when he is squirming around while I change his diaper To put the Halo SwaddleChange on your changing table all you have to do is put it on the changing pad like you would for any changing pad cover then you swaddle baby with the swaddle wrap which soothes baby and keeps them from squirming around during a diaper change I love that there are also slots on the sides that allow the safety belt from the changing pad to come out I also love how soft the fabric is so I know that not only is Wyatt being swaddled and comforted during a diaper change but he is also laying on a soft cover which in all makes the diaper changing so much easier for both of us Another huge plus about the Halo SwaddleChange that makes me feel better about any products I use with my kids is the fact that the SwaddleChange has been awarded the PTPA Parent Tested Parent Approved Seal of Approval\n",
      "\n",
      "4. Buttons vs Best Bottoms reviewFirst thing I want to mention  Best Bottoms inserts are compatible with Buttons diapers  LOVE this because I prefer hemp inserts and Buttons have not made a hemp insert yet  Speaking of inserts I prefer Best Bottoms inserts over Buttons inserts  the Buttons inserts bunch up more than Best Bottoms doDouble gusset awesomenessButtons covers 2 layer PUL just like Best Bottoms are SO soft even though they are thicker and more durable than 1 layer PUL covers  Best Bottoms are also 2 layer but are much stiffer and noisier  if you pat babys bottom with Best Bottoms on its loud I know that sounds like a silly thing to rate a diaper on but I much prefer my diaper options to be more discretequietButtons covers are slightly stretchy whereas Best Bottoms arent for the most part so I feel like I get a better fit with ButtonsButtons covers are less bulky than Best Bottoms  this says a lot because Best Bottoms are some of the trimmest diaper systems out there  Buttons is even trimmer I think due to the fabric being just that much softermoldableButtons covers seem to last longer than Best Bottoms  I have a Best Bottoms cover that I purchased the exact same time as a Buttons cover  the elastic in the Best Bottoms cover has relaxed while the Buttons cover still looks like newOne of the hip snaps on one of my Buttons covers is starting to lose its snapping capability however my baby has an unusually trim waist and weve been using the same hip snap since she was 6wks old she is now 8 months old  I just use other snaps so while slightly irritating its not that big of a deal at this point as I know we wont be using that snap much longer anyway  I havent contacted Buttons yet about possibly replacing the snap  I would like to replace it since I plan on selling these once she is potty trained  On this same cover there is also a small tear on the PUL on the inside of the diaper at a snap that holds an insert this tear happened within a couple months of purchase  Doesnt cause any leaks since this is a 2 layer PUL and the tear is basically under the snap  you can only see it when unsnapping an insert  I do not have any tears in the PUL on the Best Bottoms diapers so Best Bottoms PUL may be more durable  I still prefer Buttons and still consider them a 5 star cover  My other Buttons covers are slightly newer but have had no issues with them in the months Ive used them and believe this is an isolated problem with just the one coverI have this in Pebble probably my favorite Green not apple White Light Blue and Purple my other favorite  I really wish they had their original colors still available  the new colors are cute but I wish I had bought Strawberry when I had the chance it was so prettyWe rarely have leaks but I have noticed we leak more with Buttons than with Best Bottoms prior to the elastic on BB stretching that is and I think its because of the fabric on the PUL  it seems to wick more moisture than the Best Bottoms fabric on the PUL  Again I still think Best Bottoms are better  the softness and trim factor makes this acceptable to me and not a big deal since we dont have leaks often  If we do its usually my own fault for not adjusting the insert well enough or making sure the insert isnt peeking out through the gussetsIn addition to Buttons and Best Bottoms I have a Rumparooz cover a Lotus Bum cover and fleece covers  I also have fitteds which I also like a lot pocket diapers my least favorite tons of flats some prefolds  I always grab Buttons first  Always UPDATE My baby is 9 months old now and crawling all over the place  She does get slightly irritated on the tops of her thighs from the PUL that is exposed to her skin and rubs there when she moves  Once I realized this I just started tucking that part of the wing in so the outer fabric is what rubs there not the inside PUL  Simple and does the trick  Just wanted to mention this in case anyone else wanted a simple fix for this scenario\n",
      "\n",
      "5. We have 7 month old twins and have used it since day 1 In short it is an excellent stroller for Twins highly recommended It has very high build quality and a lot of great little added featuresFirst of all if you have babies I would highly recommend the Kolcraft Contours Tandem Car Seat Attachment It allows you to put most brands of car seats on this strollera great idea You can put 2 of these attachments on so both car seats will fitThe stroller itself drives very nicely its easy to push considering how big it is and rides very smoothly The wheels allow for quick turns and the handle is nicely padded for extended use It has a very large storage area underneath with plenty of space There are some great extras they thought of that are nice to have There are handles on each side that an older child can hold on to Our 3yearold likes holding the handle and walking next to the stroller The stroller folds open and closed fairly easily I love that its backandfront and not sidebyside Some of our friends with sidebyside strollers complain about being able to fit through doors and things like that We never have that problemWhen attaching the seats that come in the stroller there are many different positions you can put them infacing each other both forward and so on Its easy to detach and reattach the seats The seats are comfortable and have a 5point harness that seems to have a wide range of adjustable positions Its easy to adjust the back position of the seats and footrests as well I wish the shades were a little wider on topsometimes it doesnt block as much sun as I would like But its not terrible The seats also have detachable cupholders which is useful The stroller comes with an iPod adapter but it seems fairly cheap and gimmickyweve never used it it seems kind of silly Overall the stroller is very wellbuilt sturdy and we love itThe only negative is with both seats in place the stroller does not collapse very well You really have to remove one of the seats to get it to fully collapse which is a nuisance especially when youre trying to manage 2 babies However Im not sure if they could have designed it any differentlyOverall we are very pleased and have recommended this stroller to a number of our friends If you have Twins especially I highly recommend this stroller\n",
      "\n",
      "Top 5 most negative reviews:\n",
      "\n",
      "1. My disappointment with this product prompted me to write to the manufacturer  Below is my correspondenceIm writing you this email to express my deep dissatisfaction with a recently purchased Graco productMy wife and I are new parents and as expected the Graco brand was quite heavily represented on many items that expectant parents needAmong other things we purchased a Graco car seat extra seat base and a Pack and PlayAt this point our daughter is only a week old the car seat has seen limited use but the Pack and Play has already been put through some paces and it is this product that I am writing to you aboutThe model we purchased was the Pack n Play Dempsey  The main reasons we chose this model were the designcolor and the fact that it had a changing table  The additional storage seemed to be a nice feature thought not something that we will probably use at this point and as it disappears when not used as a bassinet it has limited usefulnessI have quite a few reasons to be dissatisfied with this product but by far the biggest disappointment is the changing tableThe design flaws with the changing table are glaring  It is supported only on one side leaving the other side to hang across the bassinetplayard with nothing to brace it  Our daughter who is just barely 8 pounds places enough weight on the table that it dips down on the unbraced side causing her to roll over on the side  Even if placing her as far as possible over to the braced side even a few pounds of weight over the center of the table will cause it to slant and thus cause a baby to roll over to their side  As you can imagine trying to change a baby on a device like this is akin to placing them on a slide or ramp  it is not conducive  Furthermore I dont believe it to be safe as newborns do not have full control or strength in their necks and this table causes their bodies to slant underneath them  causing them to contort in uncomfortable and possibly dangerous waysYour website states that this changing table is to be used by babies up to 25 lbs  I cant possibly imagine how a child that large wouldnt cause the table to dip at even more dangerous angles  Reviewers at Babies R Us which unfortunately I didnt consult until after this product was purchased and assembled state that children as small as 5 lbs experience these same issues  In fact out of 43 reviews at the Babies R Us site almost every other one speaks of issues that people have found with this table  The overall review as of this writing is 33 out of 5 stars which equates to 67  I wouldnt expect my daughter to bring home grades like that once she enters school  and you should find such ratings for your products absolutely unacceptableWhat is even more disappointing is that this could have easily been averted had the table been given a similar design on both sides  A couple inches of plastic leg support on the floating side of the table could have braced it against the frame and completely avoided this issue  How could something like this even have made it past your design and quality control divisionsWhile the changing table situation is enough to sour me on this product I must also mention briefly some other problems with the productThe small sound machine that comes with this model plays at such a low volume that you can legitimately not hear here it in all but the quietest room  Standing 3 feet from the crib the sound couldnt be heard over a lower than normal conversational tone  While I understand there could be safety issues from glaring sounds this device errs way to far on the side of caution to be unusable  We have plenty of other noise making baby toys which dont suffer from these issues  If the baby is quiet enough to be able to hear these sounds they are most likely already asleep in a quiet room and dont need to be soothedI was also very surprised that the mobile was not electric  While your site does not specifically state the Babies R Us site which I have no doubt Graco writes andor approves the copy states as a feature Electronics module and mobile  This misleading combination of the two features infers that the mobile is indeed electronic and therefore would move of its own power  Not only does the mobile not move on its own its design is such that spinning it by hand causes it to move around maybe on 34 revolutions 23 seconds before the friction of its design causes it to stop  It is also placed at such a level that it would never be reachable at all by a child to play with or spin on its own perhaps from a safety issue that is best  So instead of a functional mobile what the child gets is the opportunity to stare at the feet of a few stationary turtlesWhile not incredible difficult to assemble the included instructions are poorly designed at best and misleading of incorrect at worst  I probably could have assembled the device in shorter order without referring to the instructions  For example why instruct the installation of the mattress in the bottom of the unit and then go back to instruct that it must be removed in order to configure the bassinet  Wont most people be assembling and using this as a bassinet first until their child grows into the playardI also find the advertising of these products as portable pack and plays a little absurd  While you can certainly collapse them to a smaller size the ability to fit them back into their original carriers is not an easy affair  Forget about trying to disassemble the accessories  snapping apart the mobile or attempting to remove the metal frame from the changing table fabric would certainly cause damage to these parts after several times  Additionally while my wife certainly is getting better muscle tone carting around a new child your prevalent advertisements with the mother toting the collapsed playard in one hand as if it were an empty picnic basket is patently absurdUnfortunately these last few complaints about the model seem to be inherent in most all of your Pack n Play models and as such I dont believe that returning this Dempsey model for another Graco playard would really make much of a difference  I suppose I could trade it for a cheaper model with no storage or changing table but the time and effort involved isnt worth the 6075 that would be saved  To be honest I am surprised based on the quality of this product that Graco has established such a reputation and large market share in the playard departmentI certainly wont be recommending these products in the future  Additionally I will be placing this review on both Amazon and the Babies R Us website  I invite you to answer these concerns at least in those forums should you choose not to respond to them hereThank you for your time but no thank you for the productSincerelyA Disappointed Customer\n",
      "\n",
      "2. Please see my email to the companyHelloI am writing to voice my familys anger over your unsafe cheap cosleeper  If you recall I had a problem with my newly purchased cosleeper back in May which I immediately called about and was told to send the frame back  At that time I asked to speak to a supervisor about the situation and was told that I would be contacted shortly  However Mayra was the only one who I was able to speak with after numerous attempts to be put in contact with the supervisor  After a huge delay due to mistakes on your end I finally got the cosleeper sent back to the company after speaking with Veronica on June 13thAt this time June 13th I asked to speak with the manager of the company and Veronica told me that Sharon was not in at the time but would be in later that day  I obviously never heard from Sharon or anyone else from this company for that matter from that point on  I was inquiring to speak with the manager after voicing my concern over just repairing the frame instead of receiving a new productWe received the frame shipped back to us without so much as an email or follow up from Arms Reach  The entire process to get our frame back took over a month from the time I first contacted customer service  I had initially asked for a replacement frame since our daughter had been used to sleeping in it by this time and I did not want to completely disrupt her sleep pattern while waiting for the repair which it did  The frame came back to us in a box with one sheet of paper which did nothing to describe what was wrong with the frame or what was done to repair itI use the term repair in disgust since it clearly was never properly repaired  We assembled the cosleeper again according to exact instructions in the manual  Two nights later I noticed that now if I barely touched the rail of the cosleeper nearest our bed that it would collapse and had to be pulled back up into the lock position  Obviously we felt very uncomfortable using the cosleeper but after having dealt with your awful lack of customer service the first time around I did not waste my time trying to reach Mayra Veronica or Sharon againTo avoid the problem of the collapsing side rail we have been careful to not touch or even brush against it for fear that it would collapse with our daughter in it  Without touching it it does stay up  Tonight July 23rd however I laid my daughter down from the other side of the cosleeper all together and the other side rail immediately collapsed when I laid her in the cosleeper  She was in it  I had not put any pressure on the side rail it just collapsed  After taking her out waking her up in the process and moving her elsewhere to be put to sleep for the night I attempted to relock the side rail  It took several tries and does not seem secure at allI can not believe that your remedy to fix the situation of a faulty cosleeper was to send our same frame back to us repaired which still breaks and is worse off than when I first contacted you  I am so turned off by your company not only because of the safety hazards associated with putting a baby in this piece of crap product that you make but the complete lack of care from the supervisor or manager You would think that someone would be concerned that their products for babies are faulty and unsafe  These are babies we are talking about here  Not pets not adultsinnocent babies who need the safest place possible to sleep  Your company disgusts me and I am honestly surprised that you are still around  Not for long I am sure\n",
      "\n",
      "3. I had to return this stroller for three reasons1 Straps are too small and my 15 month old who is average size2 The pictured armrest is not included3 Customer service phone numbers are disconnected I finally reached someone and our conversation was ended abruptly with a strange BEEEEP when I was in midsentence The person was nice enough to email photos of the straps since they assumed customers are idiots and I did not have them adjusted to maximum length before I made the callAllow me to go into detail about these straps First of all they are too small to fit any toddler The design of the seat and straps are not intuitive and it seems like the straps were an afterthought When fully expanded the straps just barely fit my daughter and I took her out of the stroller immediately because she was visibly uncomfortable I adjusted the shoulder height strap to the highest passage which is not easy to do and expanded the straps fully The clasp which attaches to the seat is positioned too far back and if moved forward would provide more room The measurements are completely off and it seems like they did not have any reasonable testing to support a 55 pound limit on this stroller I was very disappointed that I could not use this stroller after I spent the money and now all this time unpacking it and putting it together Now Ive spent even more time disassembling repacking sealing and requesting a return through Amazon What funBesides the straps issue the stroller is well made The seat fabric is quality The metal frame seems to be sturdy and the wheels although plastic are ready to ride I didnt have the opportunity to push my daughter but it glides smoothly with no weight in the seat The cupholder is nice but attaches to the frame of the stroller in an awkward position Another afterthought in their 34design34 process When I was putting the stroller together the little Zooper sticky logo came off the side of the frame which covered a screw hole It was just barely hanging on there with some sort of lame adhesive I tried to stick it back on but I expect it will fall off again soonSo I called the toll free customer service phone numbers on all of the printed materials and packing sheets which were in the box I reached a call center and the woman who answered had a heavy accent and no idea what I was talking about when I asked for Zooper customer service One number was out of service I tried the third number and the person who answered seems surprised at my phone call He was helpful but I dont think he really understood the seat design as I was explaining how the straps were already extended Its difficult to communicate this problem over the phone He mentioned that 34someone else34 had received a stroller with short straps Well why are they still selling this defective product He took my information and said they would be mailing a set of longer straps for the stroller We were disconnected suddenly I would hate to assume he hung up on me I was pleasant and accommodating to his request for information so he could help me I stated on the phone that I was considering returning the stroller because I cant use it and I was unhappy with the product Thats when the call ended I didnt have a chance to mention the armrest while on the phone but I responded to the email with a picture of this Amazon listing and said the armrest was not included That was 11 days ago and I have still not received the longer straps I have a feeling they arent coming and now Im just angry about the entire situation This is why I order on Amazon if I had purchased directly from this company I have a feeling Id never get a refund eitherThats about the size of it Im returning the stroller this week and spending a few more dollars to get the Joovy We needed a stroller three weeks ago this one is useless and Im tired of looking at it I paid 16589 for a hassle I still cant believe it cost 1789 to ship this piece of garbage but thats what it cost I expect a FULL refund\n",
      "\n",
      "4. This product should be in the hall of fame solely based on its ability to achieve such a high number of positive ratings from parents hoping to stimulate their childs intelligence Dont be fooled its a piece of junk I had such high hopes for this and even at a 15 purchase price I feel ripped offProsNice images with high color contrastCons Simply horrible construction The pieces of plastic could not be more cheap and one of the nubs cracked right off during assembly The arches and misc plastic pieces probably cost all of 20 to manufacture in total The image cards do not easily fit into the attachment nubs and do not hang straight as a result Maybe this changes over time but right now from an underneath view you basically see a card slanted sideways Not interesting IMO The bar that attaches to the side of the crib is a terrible design and it is LAVENDER Seriously it is not white at all It clashes completely with the rest of the product contrary to the image on Amazon and the product boxIts just cheap and hideous really The idea is good but they should be ashamed at the execution The cheap thin plastic and nonmatching parts should be an embarrassment to any manufacturer who claims to me making toys to stimulate a childs thinking and intelligence There was clearly neither thinking or intelligence behind this product\n",
      "\n",
      "5. The first monitor broke within 1 month of use the talk back feature would not work We sent it back to Summer Infant and they sent a replacement 4 days after using the replacement the monitor stopped working in the middle of the night I woke at random to check on my newborn baby only to discover that it was not working I would not have been able to hear the baby if she had cried during that time The monitor would not turn on or off just had a blue screen We were going to send it back but then when the battery died and we plugged it in the next day it suddenly worked again We gave it another shot 2 weeks later the same thing happened and the monitor stopped working in the middle of the night while we were sleeping I called Summer Infant and there was no apology for the 2 failed products They were not concerned that this safety tool had failed I asked for a refund but was told that I could only exchange it for another of the same model Despite having had 2 failed monitors in the same month I said that I did not want the same model as it was unreliable and not safe I had to argue with the customer service rep who refused to let me speak to a supervisor or manager Finally she said they would bend the rules and let me get a different monitor but I had to pay the difference in price The price she quoted me for the alternate monitor was 35 more than the cost of the monitor on AmazoncomLong story short this monitor is crap and cant be trusted The company does not seem to care about customer satisfaction or child safety Nor do they stand by their products DO NOT BUY THIS MONITOR GO WITH THE MOTOROLA BRAND Better product or significantly better customer care\n",
      "\n"
     ]
    }
   ],
   "source": [
    "#c) \n",
    "# Creating sorted reviews set \n",
    "reviews = sorted(list(zip(probability_predictions, test_reviews)), key=lambda x: x[0][1])\n",
    "\n",
    "# Creating list for top 10 positive and negative words\n",
    "top_5_positive = [review[1] for review in reviews[-5:]]\n",
    "top_5_negative = [review[1] for review in reviews[:5]]\n",
    "\n",
    "# Printing top 10 most positive words\n",
    "print('Top 5 most positive reviews:\\n')\n",
    "for i in range(5):\n",
    "    print('{}. {}\\n'.format(i + 1, top_5_positive[i]))\n",
    "    \n",
    "# Printing top 10 most negative words\n",
    "print('Top 5 most negative reviews:\\n')\n",
    "for i in range(5):\n",
    "    print('{}. {}\\n'.format(i + 1, top_5_negative[i]))"
   ]
  },
  {
   "cell_type": "code",
   "execution_count": 15,
   "metadata": {},
   "outputs": [
    {
     "name": "stdout",
     "output_type": "stream",
     "text": [
      "0.9328104010746497\n"
     ]
    }
   ],
   "source": [
    "#d) \n",
    "# Importing accuracy_score\n",
    "from sklearn.metrics import accuracy_score\n",
    "\n",
    "# Calculating the accuracy of predictions\n",
    "predictions_accuracy = accuracy_score(test_ratings, predictions)\n",
    "print(predictions_accuracy)\n",
    "\n",
    "# The accuracy_score method says its return value depends on the setting for the normalize parameter: \n",
    "# If False, return the number of correctly classified samples. \n",
    "# Otherwise, return the fraction of correctly classified samples."
   ]
  },
  {
   "cell_type": "markdown",
   "metadata": {},
   "source": [
    "## Exercise 5\n",
    "In this exercise we will limit the dictionary of CountVectorizer to the set of significant words, defined below.\n",
    "\n",
    "\n",
    "a) Redo exercises 2-5 using limited dictionary.   \n",
    "b) Check the impact of all the words from the dictionary.   \n",
    "c) Compare accuracy of predictions and the time of evaluation."
   ]
  },
  {
   "cell_type": "code",
   "execution_count": 16,
   "metadata": {},
   "outputs": [],
   "source": [
    "significant_words = ['love','great','easy','old','little','perfect','loves','well','able','car','broke','less','even','waste','disappointed','work','product','money','would','return']"
   ]
  },
  {
   "cell_type": "code",
   "execution_count": 17,
   "metadata": {},
   "outputs": [
    {
     "name": "stdout",
     "output_type": "stream",
     "text": [
      "Top 10 most positive words: ['car', 'old', 'able', 'well', 'little', 'great', 'easy', 'love', 'perfect', 'loves']\n",
      "Top 10 most negative words: ['disappointed', 'waste', 'return', 'broke', 'money', 'work', 'even', 'would', 'product', 'less']\n",
      "[-1  1  1 ...  1  1  1]\n",
      "[[0.06733396 0.93266604]\n",
      " [0.04550928 0.95449072]\n",
      " [0.21389392 0.78610608]\n",
      " ...\n",
      " [0.14243191 0.85756809]\n",
      " [0.10898125 0.89101875]\n",
      " [0.01694395 0.98305605]]\n",
      "Top 5 most positive reviews:\n",
      "\n",
      "1. Background Ive been using Grovia diapers for four years when I bought them they were called grobaby I have 6 shells and 12 inserts I purchased them for my oldest daughter and used them only part time for 25 years until she was potty trained She still needed pullups at night for a long time so I used these until she was ready to go without She was probably 30lbs when she stopped wearing them and they fit well They were stored for a year until I had my other daughter who is now 55 months and exclusively CDd I didnt use them for either girl until about a month old since I had tiny babiesPros Theyre mostly organic When they were new they were so soft and thick Now theyre definitely worn in and not so soft anymoreI love how easy they are to use As a first time CDer these were perfect Just snap the inserts in strap on baby Easy for pretty much anyone No stuffing unstuffing folding etcI love that Im able to reuse the shells a couple of times until theyre stinky or pooped in or too wet Some people didnt find this to be true but after four years of use I can confidently say its possible and happens often for meI find them easy to wash and love that the insert and shell are separate since I machine dry the inserts and line dry the shells which has helped to prolong their life Contrary to some reviews I dont find it difficult to clean poop from shells It just agitates out of the mesh in the washing machineOne size Although I didnt use these diapers for my tiny babies they are absolutely a birth to potty training diaper My oldest was 30lbs when she stopped wearing them almost four yrs old She has always been a small kid with no chunk though so Im not sure how long a thicker baby could wear them forDesigns and colours are cute nothing obnoxious and I like that the snaps match the shell colour Makes all those snaps less noticeable The snaps are very well made and strong not one has come loose or fallen offVersatile Not only can you use one shell multiple times before needing to wash it but you can also use the shells as covers for prefolds and other diapers needing covers I used prefolds quite a bit during my daughters first few months can get a more custom fit on tiny babies and I found them to be extra soft on that delicate new skin I didnt bother buying a bunch of sized covers for my prefolds and used the grovia shells instead They worked perfectlyGreat for travelshopping etc You can leave the house with an extra shell and a few inserts instead of 34 whole diapers since the shells can be reused Ive been out with only one shell before and I was glad I had these I quickly rinsed the poop out of the shell dried under the air drier in a public bathroom and snapped in a new insert in less than 5 minutesSoft shells soft elastic on the legs very few red marksFew blowouts or leaks Ive only experienced a few leaks and I think this is mainly because some inserts were too long for the shell in its smallest setting When the shell went up in size the issue was fixed Also the aplix tabs Velcro stuff makes these diapers super custom and snug great for putting a CD on a squirmy baby The aplix also happens to be a conCons the Velcro tabs This is probably due to the fact that theyre 4 years old but the tabs are starting to curl up and not stick so well This only began to happen but may have began sooner if I had CDd exclusively the first time I can switch them out for snaps so I may do that eventually since the rest of the shell is in perfect conditionHolds stink The inserts are still in good condition but Ive had problems with the nasty ammonia smell They really seem to hold the stink so stripping and a religious wash routine has been key to keep them fresh smelling Maybe this has been my own fault because I had no idea what I was doing in the beginning but who knowsI sun bleach them regularly so they still look good but they need to be machine dried for at least 20 minutes to stay softAbsorbency My biggest issue with these diapers is that they arent absorbent enough My kids are heavy wetters so Ive never been able to use these at night Even with the booster Also when wet the inserts ripple up or buckle and dont seem very comfortable My babys bum gets red marks on it if left on too long from the ripples of the top layer of the insert I use the bumgenius freetimes with microfiber inserts at night and have no issues Although Id rather have a natural fabric next to my daughters bum at night the microfiber wicks the moisture away so well and we dont have to double upConsistency On the smallest size some inserts are too long for the rise of the diaper and poke out which can cause leakage The inserts arent uniform in size which isnt a huge issue but some are longer or wider than others which is just a bit annoyingOn the bulky side My bumgenius freetimes are less bulky but not by much This doesnt bother me too much since it makes perfect sense that a cloth diaper be bulkier than an uber trim disposableVerdict love them enough to buy more but would probably get the snaps next time I love that Velcro is easier to use but the diapers would last much longer with snaps Im also curious as to how the new grovias compare to the old ones I very much recommend these\n",
      "\n",
      "2. I was very excited when I heard Chicco was finally coming out with a double stroller I was initially against any double stroller I just didnt want to mess with it But when our daughter was 25 years and our son was four months we were taking a month long trip abroad and I knew we wouldnt be able to corral both kids without one The Cortina Together worked wonderfully for what we needed We already had a Chicco car seat and Trevi so we knew we liked Chicco And I wanted both kids to be able to sit comfortably I knew a sit and stand would be lighter but didnt want my twoyearold to have to stand or sit on an uncomfortable tiny seat all the time After hauling this thing all over Europe here is why I love this strollerYou can easily snap the Chicco car seat into it I love that you can place it in the front seat or back seat When we want more control of our toddler we place her in the back and baby in the front But when we are just enjoying a walk she loves sitting in the front to see better and hop in and out on her own It is also a great feature that the rear seat fully reclines This is nice for a napping toddler and makes a great bassinet for a sleeping babyThe basket underneath is very large and very accessible Adding the zippered front is a huge help to be able to access things even when the back seat is fully reclined I was able to easily carry diaper bags luggage groceries etc in that thing I also like that the basket stretches in front of the rear seat If our daughter dropped anything it caught it which is nice when you are running to catch a train and not keeping track of everythingThe canopies work well They arent large but the fact that they adjust so easily means you can keep your children covered from rain or keep the sun out of their eyes no matter what angle I also love having the two cup holders for mom and dad as well as the two cup holders on the front seat A con however is that there are no cup holders for the back seat And the two cup holders on the front can be switched which is nice But if you have them turned out you cant fold the canopy up when the stroller is folded and if you have them turned in you cant fold the front seat down to accommodate the car seat But this is super easy to adjust The seats move very easily as well  one hand adjustment The brakes and wheel locks are great and easy tooEven with its large size the stroller turns on a dime The handle bar adjusts easily for pushers of different heights Sometimes we found the stroller can be a little tricky to fold up  the lock only requires one hand but you have to maneuver the stroller just right to get it to collapse on itself When folded up though its not too huge  it easily fits in our Honda CVR no problem Its great for on the go easy to set up  no adjustments neededThe stroller proved to be very durable  considering we hauled it on and off planes and trains as well as up and down cobblestone streets and offroad Like others have said it is heavy but it is a double stroller thats what you get It is lighter than many options though My close friend has a Graco double and she is super jealous of our Chicco One other negative is theres no handle or really great place to grab the stroller to carry it when its folded up The feature that allows it to still roll when folded is nice but obviously doesnt help when you are going up stairsI truly love this stroller and I would highly recommend it to anyone Coming from one mommy who didnt especially want a double is only five feet tall and not very strong but realized she needed it I would never use another double stroller This is the way to go\n",
      "\n",
      "3. PROS1 Good to grow with a toddler Its perfect for my 8 month old  an active 28 month old who will soon grow out of sitting in a seat The second seat is easy to install  will be easy to remove later when hes older2 Compact I like this stroller because its much more compact than a typical double stroller In fact it seems to be a stroller  a half which is what I wanted I had tested some other doubles and they were so bulky and heavy I questioned if theyd even fit in the back of my 4Runner The Joovy Caboose Too fits so well in my 4Runner It would also be perfectly fine when Im just using it for one child Some of the other double strollers seemed to be a ridiculous choice for later when only one child will use it3 Easy to assemble I did it myself no problem4 GREAT shade works perfect for shading both kids Its big  easy to move When youre inside you can fold it to the top  easily see the front child This was also something I was looking for My baby jogger city mini has the best shade but this one is very comparible5 Folds in one piece It folds up in one piece unlike the baby jogger city select which you have to remove one seat to fold That was a key feature in choosing the Joovy Caboose Too because of the possibility of airplane travel Easy to unfold  snaps into place6 Value for a double stroller  its a great deal I got free shipping Babies RUS and it included a free parent organizer7 Child treat tray in the front essential for my toddler Although sometimes he chooses to sit in the back which doesnt have a tray8 Tandem style the front to back allows you to easy maneuver store aisles go through doors  easily load your kids with it parked between cars Its also not so long that you feel like youre pushing a train or bus9 Other positive features the straps are easy to use  adjust They seem to hold the child fine The seats recline which is also good The material seems very easy to clean  durableCONS1 The biggest negative is the frame doesnt feel that sturdy We have a baby jogger city mini single  absolutely LOVE that stroller The Joovy Caboose Too is a little more wobbly when walking on streets If theres an even slight slope from street to curbside then it pulls towards the slope That appears to be a result of the frame  not the wheels or shocks My husband also commented on the wobbly  nonsturdy feeling I will say that my purposes were to go to the mall  do walks not runs For the most part it works fine but the frame is the only reason I didnt give it 5 stars2 Folding It does require 2 hands to fold up It folds best when front wheels are locked so it does seem to be a step process3 When the second seat is installed  a child is sitting in that seat  the storage basket becomes pretty useless When my 28 month old sits in the back his feet are basically in the storage basket You can however put things on the step platform on the back Thats handy to do when shopping I use a mommy hook and hang the diaper bag from the handle Not sure they recommend that but my bag is not too heavy4 The push handle is not adjustable  seems a little high Im 54 but it actually doesnt bother meThats pretty much it I think its a great value for such a compact yet very usefully designed stroller\n",
      "\n",
      "4. These plates are amazing  First they are made from Potatoes  Almost all platescupsutensils found on store shelves today are made of plastic  Dont get me wrong I do appreciate plastic and I use it on a daily basis  However it is amazing that there is a way to create childrens products from a biodegradable safe efficient and all natural source  It makes me feel better knowing my kids are eating off a plate that is not leaching any chemicals into their food  I also love that this product will not just sit in the landfill for hundreds of years but will biodegrade faster than other plastic plates So these products by Spuds are not only good for my kidsbut good for the environmentI LOVE thatNow onto the plate itself  I love the design  It is perfect for my one year old who is starting to eat a wider variety of solid foods  Each section is just the right size to put a little bit of food into  A diced strawberry in one section some applesauce in another a few puffs in another a chopped up nugget in another and some yogurt drops in the last section  However each section is very small  While this plate is perfect for an infant or younger toddler it is not the ideal plate for an older toddler or child  It simply does not hold a lot of food I often have to refill some of the sections because even he can eat more than this plate will hold  However I think the size is perfect for younger kids who just dont need a huge plate or perhaps for an older child who just wants a snack I love that there are five sections to put different food in  My one year old loves choosing which food to eat firstAnother nice feature of this plate is that the sides rest flat against the table so it is not very easy for a child to pick it up and throw it  However it is not impossible and my son is very capable of finding a way to lift it up  However it is a nice design to help prevent little fingers from grabbing the plate and throwing it or dumping it on their headSomething that does not bother me but might bother some people is that the plate stains if certain foods are left on the plate for a while  Due to the nature of the product I believe this plate is made from a slightly porous and softer material that traditional plastic Because of this some food might leave small stains on the plate  I am guessing that if the plate is rinsed after each meal this will not be an issue  I left some pasta on the plate overnight and even after washing it in the dishwasher some red stains remained  They do seem to be fading overtime after each time it is washed in the dish washerThe plate seems to be very durable and looks as good as new even after almost a month of use  I wash mine in the dishwasher after each use and all three of my plates are holding up well  I wasnt sure how it would do since it is made out of a potato product but it looks great has little to no warping or discoloration and it still an awesome productOverall I love these plates and the whole Spud product line  I love the material and I feel safe using it  They are absolutely perfect for my one year old and I use them almost everyday\n",
      "\n",
      "5. We bought this stroller about 2 weeks ago I absolutely love it I have a 3 year old and a 5 month old They both fit in the stroller great My 3 yr old was so excited about this stroller He loves the color blue the canopies the UV shade everything He is looking forward to using the boot this winter I love love love the big basket Yes there is a bar across it However I am able to get a backpack in over the bar To take it out we just unsnap the back of the basket and pull the backpack under the bar It really is easy The stroller steers well I have not noticed it pulling to one side despite the 15 pound weight difference between my boys We have not used the rain shield but the UV shade is great The canopy will cover the whole front of the stroller but the UV shade keeps the boys shady when they want to be able to look out The infant boot works well It is meant to go across the whole front but is possible to use it on just one side The harness is easy to adjust We were using the Combi Citty Savvy single It had the worst harness adjusters The Maclaren Techno uses the same crappy adjusters On the Tango you just slide the clip up or down It is simple and it stays put The harness fits both of my boys The seats recline nicely the canopies are huge The stroller is easy to steer and the handle is comfortable I have done a little onehanded steering but that is not easy It is a double stroller after all The Tango is a great looking stroller I have read reviews in which people talked about wanting a stroller that looked good I thought that was silly However we have gotten so many comments on this stroller I have to admit that it is a little flattering Silly but true Someone complained about having trouble opening the stroller It is challenging at first We finally figured out that you have to push down on the little handle on the side of the stroller You pull that handle to close it and push it to open it Once you figure that out it is super easy to open My one complaint is that the stroller is pretty large when folded I have two carseats tethered in the back of my 2004 Odyssey In order to get the stroller in I have to loosen one of the tethers first We put the stroller under the tether then tighten the tether I am able to fit bags in front of and beside the stroller but it takes up A LOT of room We are going out of town later this month and I have no idea how I am going to fit in our luggage with the stroller I am considering strapping the stroller on the roof So if a small fold is a must go with the Combi or McLaren I thought both of those were rather flimsy though The McLaren was VERY narrow and had shallow seats We decided we would just live with the large fold and get the Zooper I am SO glad we did It is well worth the money\n",
      "\n",
      "Top 5 most negative reviews:\n",
      "\n",
      "1. Looks really cute however the cloth smells funny and gave my baby some rash after 15 mins wearingRequested a return need to pay 25 restocking fee plus shipping25 order maybe 5 back eventuallyAlso the return must be brand new condition Really UnbelievableDo yourself a favor and See the return policy by yourself before making an orderHelloBelow is return instructions this item must not be worn or used or the return will not be refundedThank you for ordering from us Here is your RMA as well as return instructions All returns must be in brand new original condition Please read our return policy Return policy link is provided for you in this emailAll refunds issued are determined by the outcome of inspections Any return of costumes used worn signs of pet hair human hair or washed will void all refund All boxes for shoes NEED to be unmarked and in original condition ALL returns NEED to be in original packaging to qualify for an authorized returnPlease note If you are returning a costume and need a different size we suggest that you place a new order for the item you need This will insure that you get the item quicker If you order from us simply email us your new order and we will waive the restocking fee on your returnsReturn Instructions ALL RETURNS NEED TO BE IN ORIGINAL PACKAGINGItems MUST BE POSTMARKED WITHIN 3 DAYS of  RECEIVING RMA TodaySimply repackage itemon the outside of the packaging please write RMAWe do not cover shipping so please feel free to use any shippingmethod you likeItem is also subject to a 25 restocking fee and all incurred shipping costs associated  with this returnShip to Brands on Sale\n",
      "\n",
      "2. I really like this shopping cart bag EXCEPT that the zipper that holds this bag together when not in use broke after 2 uses  Since the 2nd use happened after the end of the 30 day return policy AND since I had already used the product of course I did  how else would it break the seller would not accept a return  BabyAge was the seller I purchased through on Amazon and I DO NOT RECOMMEND THEM  The product of course also was at fault so I also contacted BuggyBagg and after a couple voicemails  emails to them I did not receive a return call or return email\n",
      "\n",
      "3. I was excited to give these instruments to my 4 year old for her birthday because they are cute painted instruments that look even better in person than online I assumed that since the set was wooden and 1015 more expensive than other similar sets it would be durable My daughter opened the box and the drum broke within two minutes in the middle of her family birthday party She was heartbroken  she was just patting it with her hand when it broke but she thought she did something wrong I dont even know the return policy  I am so busy that is the whole reason I did birthday shopping in the middle of the night online  dealing with boxing it up and taking it to the post office is last on my priority list so it is sitting in my entryway completely useless I was disappointed that such a cute set that my daughter was so excited to receive ended up being such a waste\n",
      "\n",
      "4. This kit is a complete waste of money I wish I had known this before I threw away the packaging so I could return it to the store Its on its way to Goodwill insteadThe snotsucker is the worst piece of equipment in the kit The plastic is so thick and heavy that its really difficult to squeeze it and it takes so long to pop back out that it doesnt actually suck any snot from babys nose Instead I highly recommend the NoseFrida Snot Sucker It looks weird and I hesitated to buy one but boy am I glad I did That thing works like a champThe thermometer is tied for the worst item in the kit It takes a full minute and a half plus to get an underarm reading This was a huge stressor when baby was sick for the first time and I wanted to take several temps to make sure I was getting an accurate reading SUCH a waste of money Get a thermometer that boasts about its reading time 5 8 or 10 seconds is the norm for a good thermometerThe medicine dispensers of which there are two are ridiculous The syringe is so chunky that it would be hard to fit it into babys mouth The spoon Same thing Also keep in mind that any medication that needs to be administered via syringe will come with oneThe nail clippers are actually half decent The magnifying glass is just a piece of plastic that fell out and got all scratched up after a couple weeks but now I use them without the magnifying feature I do like that they are very petite and easy to get around tiny fingers However you can find this item sold individually for a couple dollars at Amazon and baby storesDont waste your money I wish I hadnt\n",
      "\n",
      "5. despite the negative review from the first reviewer with the accessories as a buddah instead of silver bells i thought i would have gotten the same buddah as well which i didnt mind but instead of what appear to be in the picture ive received the bracelet with a charm missing ive contacted the company for a return or replacement they did offer to waive the restocking fee for my return but i still have to pay for the return shipping i was thinking what a rip off ive already paid 644 for shipping though its not my mistake nor my fault that the accessory was missing and i  have to pay to return it when i wont get a refund on my shipping and theyre only refunding the cost of the product i mean come on if youre selling something make sure its exactly the same as what you advertise and mistakes do happen people pay for their own mistakes so why does it have to be me when im not at fault the company that didnt send me the right thing i was thinking of sending it back but in the end itll cost me more and who would guarantee that this time its going to be exactly as the picture and that is just wasting my money\n",
      "\n",
      "0.8689550949913645\n"
     ]
    },
    {
     "name": "stderr",
     "output_type": "stream",
     "text": [
      "/opt/anaconda3/lib/python3.9/site-packages/sklearn/utils/deprecation.py:87: FutureWarning: Function get_feature_names is deprecated; get_feature_names is deprecated in 1.0 and will be removed in 1.2. Please use get_feature_names_out instead.\n",
      "  warnings.warn(msg, category=FutureWarning)\n"
     ]
    }
   ],
   "source": [
    "#a)\n",
    "# I decided to delete comments in this section\n",
    "#2a)---------------------------------------------------------------------------------------------------------\n",
    "train_reviews, test_reviews, train_ratings, test_ratings = train_test_split(baby_df['review'], baby_df['rating'])\n",
    "\n",
    "#2b)---------------------------------------------------------------------------------------------------------\n",
    "vectorizer = CountVectorizer(vocabulary=significant_words)\n",
    "vector_train_reviews = vectorizer.fit_transform(train_reviews)\n",
    "vector_test_reviews = vectorizer.transform(test_reviews)\n",
    "\n",
    "#3a)---------------------------------------------------------------------------------------------------------\n",
    "model = LogisticRegression()\n",
    "model.fit(vector_train_reviews, train_ratings)\n",
    "\n",
    "#3b)---------------------------------------------------------------------------------------------------------\n",
    "words = sorted(list(zip(model.coef_[0], vectorizer.get_feature_names())), key=lambda x: x[0])\n",
    "top_10_positive = [word[1] for word in words[-10:]]\n",
    "top_10_negative = [word[1] for word in words[:10]]\n",
    "print('Top 10 most positive words:', top_10_positive)\n",
    "print('Top 10 most negative words:', top_10_negative)\n",
    "\n",
    "#4a)---------------------------------------------------------------------------------------------------------\n",
    "start = time.time()\n",
    "predictions_dictionary = model.predict(vector_test_reviews)\n",
    "predictions_time_dictionary = time.time() - start\n",
    "print(predictions)\n",
    "\n",
    "#4b)---------------------------------------------------------------------------------------------------------\n",
    "probability_predictions = model.predict_proba(vector_test_reviews)\n",
    "print(probability_predictions)\n",
    "\n",
    "#4c)---------------------------------------------------------------------------------------------------------\n",
    "reviews = sorted(list(zip(probability_predictions, test_reviews)), key=lambda x: x[0][1])\n",
    "top_5_positive = [review[1] for review in reviews[-5:]]\n",
    "top_5_negative = [review[1] for review in reviews[:5]]\n",
    "print('Top 5 most positive reviews:\\n')\n",
    "for i in range(5):\n",
    "    print('{}. {}\\n'.format(i + 1, top_5_positive[i]))\n",
    "print('Top 5 most negative reviews:\\n')\n",
    "for i in range(5):\n",
    "    print('{}. {}\\n'.format(i + 1, top_5_negative[i]))\n",
    "\n",
    "#4d)---------------------------------------------------------------------------------------------------------\n",
    "predictions_accuracy_dictionary = accuracy_score(test_ratings, predictions_dictionary)\n",
    "print(predictions_accuracy_dictionary)"
   ]
  },
  {
   "cell_type": "code",
   "execution_count": 18,
   "metadata": {},
   "outputs": [
    {
     "name": "stdout",
     "output_type": "stream",
     "text": [
      "Maximum relative impact = 2.37319\n",
      "Word disappointed has impact 2.37319\n",
      "Word waste has impact 2.03966\n",
      "Word return has impact 2.00976\n",
      "Word broke has impact 1.60824\n",
      "Word money has impact 0.87824\n",
      "Word work has impact 0.63352\n",
      "Word even has impact 0.52719\n",
      "Word would has impact 0.34040\n",
      "Word product has impact 0.31608\n",
      "Word less has impact 0.19285\n",
      "Word car has impact 0.05335\n",
      "Word old has impact 0.08132\n",
      "Word able has impact 0.21528\n",
      "Word well has impact 0.49362\n",
      "Word little has impact 0.51398\n",
      "Word great has impact 0.93617\n",
      "Word easy has impact 1.13813\n",
      "Word love has impact 1.32677\n",
      "Word perfect has impact 1.43606\n",
      "Word loves has impact 1.74165\n"
     ]
    }
   ],
   "source": [
    "#b)\n",
    "# Importing Fabs\n",
    "from math import fabs\n",
    "\n",
    "max_impact = max(max(model.coef_[0]), fabs(min(model.coef_[0])))\n",
    "\n",
    "# Printing Maximum relative impact\n",
    "print('Maximum relative impact = {0:.5f}'.format(max_impact))\n",
    "\n",
    "dict_words_impact = [val for val in words if any(s in val for s in significant_words)]\n",
    "\n",
    "# Printing word with the biggest impact\n",
    "for word_impact in dict_words_impact:\n",
    "    print('Word {0} has impact {1:.5f}'.format(word_impact[1], fabs(word_impact[0])))"
   ]
  },
  {
   "cell_type": "code",
   "execution_count": 37,
   "metadata": {},
   "outputs": [
    {
     "name": "stdout",
     "output_type": "stream",
     "text": [
      "Accuracy with all the words 93.28%.\n",
      "Accuracy with limited dictionary 86.90%.\n",
      "Using all the words is better by 6.39%.\n",
      "Time of evaluation on all the words: 9.06610ms\n",
      "Time of evaluation on limited dictionary: 1.99723ms\n",
      "Using limited dictionary is 63.85531ms faster.\n",
      "Using limited dictionary is x4.54 times faster.\n"
     ]
    }
   ],
   "source": [
    "#c)\n",
    "# Just printing the results\n",
    "\n",
    "print(\"Accuracy with all the words {0:.2f}%.\".format((predictions_accuracy)*100))\n",
    "print(\"Accuracy with limited dictionary {0:.2f}%.\".format((predictions_accuracy_dictionary)*100))\n",
    "print(\"Using all the words is better by {0:.2f}%.\".format((predictions_accuracy-predictions_accuracy_dictionary)*100))\n",
    "print(\"Time of evaluation on all the words: {0:.5f}ms\".format(predictions_time * 1000))\n",
    "print(\"Time of evaluation on limited dictionary: {0:.5f}ms\".format(predictions_time_dictionary * 1000))\n",
    "print(\"Using limited dictionary is {0:.5f}ms faster.\".format((predictions_accuracy-predictions_accuracy_dictionary)*1000))\n",
    "print(\"Using limited dictionary is x{0:.2f} times faster.\".format((predictions_time/predictions_time_dictionary)))\n",
    "\n",
    "# The results meet my expectations. Using all the words, the result is more accurate than the one with a limited \n",
    "# dictionary. All words, however, are associated with a longer time of evaluation."
   ]
  }
 ],
 "metadata": {
  "anaconda-cloud": {},
  "kernelspec": {
   "display_name": "Python 3 (ipykernel)",
   "language": "python",
   "name": "python3"
  },
  "language_info": {
   "codemirror_mode": {
    "name": "ipython",
    "version": 3
   },
   "file_extension": ".py",
   "mimetype": "text/x-python",
   "name": "python",
   "nbconvert_exporter": "python",
   "pygments_lexer": "ipython3",
   "version": "3.9.13"
  }
 },
 "nbformat": 4,
 "nbformat_minor": 4
}
